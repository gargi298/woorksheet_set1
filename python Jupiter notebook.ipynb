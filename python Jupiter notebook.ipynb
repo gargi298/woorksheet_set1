{
 "cells": [
  {
   "cell_type": "markdown",
   "id": "12a2eae1",
   "metadata": {},
   "source": [
    "# Worksheet1-pyhton"
   ]
  },
  {
   "cell_type": "markdown",
   "id": "03fc01f5",
   "metadata": {},
   "source": [
    "q.11 Write a pyhton programm to find a factorial of number"
   ]
  },
  {
   "cell_type": "code",
   "execution_count": null,
   "id": "754b9079",
   "metadata": {},
   "outputs": [],
   "source": []
  },
  {
   "cell_type": "code",
   "execution_count": 2,
   "id": "1aa1e599",
   "metadata": {},
   "outputs": [],
   "source": [
    "#using for loop"
   ]
  },
  {
   "cell_type": "code",
   "execution_count": 1,
   "id": "25d3aa46",
   "metadata": {},
   "outputs": [
    {
     "name": "stdout",
     "output_type": "stream",
     "text": [
      "enter a number5\n",
      "factorial of 5 is 120\n"
     ]
    }
   ],
   "source": [
    "num=int(input(\"enter a number\"))\n",
    "fact=1\n",
    "for i in range(1,num+1):\n",
    "    fact=fact*i\n",
    "print(\"factorial of\",num,\"is\",fact)"
   ]
  },
  {
   "cell_type": "code",
   "execution_count": 4,
   "id": "1d25d158",
   "metadata": {},
   "outputs": [
    {
     "name": "stdout",
     "output_type": "stream",
     "text": [
      "enter a number10\n",
      "factorial of 10 is 3628800\n"
     ]
    }
   ],
   "source": [
    "num=int(input(\"enter a number\"))\n",
    "fact=1\n",
    "for i in range(1,num+1):\n",
    "    fact=fact*i\n",
    "print(\"factorial of\",num,\"is\",fact)"
   ]
  },
  {
   "cell_type": "code",
   "execution_count": 6,
   "id": "f88bd074",
   "metadata": {},
   "outputs": [
    {
     "name": "stdout",
     "output_type": "stream",
     "text": [
      "enter a number45\n",
      "factorial of 45 is 119622220865480194561963161495657715064383733760000000000\n"
     ]
    }
   ],
   "source": [
    "num=int(input(\"enter a number\"))\n",
    "fact=1\n",
    "for i in range(1,num+1):\n",
    "    fact=fact*i\n",
    "print(\"factorial of\",num,\"is\",fact)"
   ]
  },
  {
   "cell_type": "code",
   "execution_count": 11,
   "id": "52db04ff",
   "metadata": {},
   "outputs": [
    {
     "name": "stdout",
     "output_type": "stream",
     "text": [
      "enter a number3\n",
      "factorial of 3 is 6\n"
     ]
    }
   ],
   "source": [
    "num=int(input(\"enter a number\"))\n",
    "fact=1\n",
    "for i in range(1,num+1):\n",
    "    fact=fact*i\n",
    "print(\"factorial of\",num,\"is\",fact)"
   ]
  },
  {
   "cell_type": "markdown",
   "id": "25c45ca5",
   "metadata": {},
   "source": [
    "# Q.12 Write programm where number is prime or composite"
   ]
  },
  {
   "cell_type": "code",
   "execution_count": 12,
   "id": "9e40adc0",
   "metadata": {},
   "outputs": [
    {
     "name": "stdout",
     "output_type": "stream",
     "text": [
      "enter a number27\n",
      "27 is composite number\n"
     ]
    }
   ],
   "source": [
    "num=int(input(\"enter a number\"))\n",
    "fag= False\n",
    "if num>1:\n",
    "    for i in range(2,num):\n",
    "        if(num% i)==0:\n",
    "            fag= True\n",
    "            break\n",
    "if fag:\n",
    "    print(num,\"is composite number\")\n",
    "else:\n",
    "    print(num,\"is prime number\")"
   ]
  },
  {
   "cell_type": "code",
   "execution_count": 16,
   "id": "fa1405a4",
   "metadata": {},
   "outputs": [
    {
     "name": "stdout",
     "output_type": "stream",
     "text": [
      "enter a number40\n",
      "40 is composite number\n"
     ]
    }
   ],
   "source": [
    "num=int(input(\"enter a number\"))\n",
    "g= False\n",
    "if num>1:\n",
    "    for i in range(2,num):\n",
    "        if(num%i)==0:\n",
    "            g=True\n",
    "            break\n",
    "        \n",
    "if g:\n",
    "    print(num,\"is composite number\")\n",
    "else:\n",
    "    print(num,\"is prime number\")"
   ]
  },
  {
   "cell_type": "code",
   "execution_count": 17,
   "id": "75514e34",
   "metadata": {},
   "outputs": [
    {
     "name": "stdout",
     "output_type": "stream",
     "text": [
      "enter a number2\n",
      "2 is prime number\n"
     ]
    }
   ],
   "source": [
    "num=int(input(\"enter a number\"))\n",
    "g= False\n",
    "if num>1:\n",
    "    for i in range(2,num):\n",
    "        if(num%i)==0:\n",
    "            g=True\n",
    "            break\n",
    "        \n",
    "if g:\n",
    "    print(num,\"is composite number\")\n",
    "else:\n",
    "    print(num,\"is prime number\")"
   ]
  },
  {
   "cell_type": "code",
   "execution_count": 18,
   "id": "57d63b56",
   "metadata": {},
   "outputs": [
    {
     "name": "stdout",
     "output_type": "stream",
     "text": [
      "enter a number59\n",
      "59 is prime number\n"
     ]
    }
   ],
   "source": [
    "num=int(input(\"enter a number\"))\n",
    "g= False\n",
    "if num>1:\n",
    "    for i in range(2,num):\n",
    "        if(num%i)==0:\n",
    "            g=True\n",
    "            break\n",
    "        \n",
    "if g:\n",
    "    print(num,\"is composite number\")\n",
    "else:\n",
    "    print(num,\"is prime number\")"
   ]
  },
  {
   "cell_type": "markdown",
   "id": "d74a1761",
   "metadata": {},
   "source": [
    "# Q.13 write python programm to check where givin string is palindrome or not"
   ]
  },
  {
   "cell_type": "code",
   "execution_count": 2,
   "id": "157d7b54",
   "metadata": {},
   "outputs": [
    {
     "name": "stdout",
     "output_type": "stream",
     "text": [
      "enter a stringaparna\n",
      "string is not palindrome\n"
     ]
    }
   ],
   "source": [
    "s=input(\"enter a string\")\n",
    "reversestring=(s[::-1])\n",
    "if reversestring==s:\n",
    "    print(\"string is palindrome\")\n",
    "else:\n",
    "    print(\"string is not palindrome\")"
   ]
  },
  {
   "cell_type": "code",
   "execution_count": 4,
   "id": "c5890682",
   "metadata": {},
   "outputs": [
    {
     "name": "stdout",
     "output_type": "stream",
     "text": [
      "enter a stringmadam\n",
      "string is palindrome\n"
     ]
    }
   ],
   "source": [
    "s=input(\"enter a string\")\n",
    "reversestring=(s[::-1])\n",
    "if reversestring==s:\n",
    "    print(\"string is palindrome\")\n",
    "else:\n",
    "    print(\"string is not palindrome\")"
   ]
  },
  {
   "cell_type": "code",
   "execution_count": 5,
   "id": "9fdcf806",
   "metadata": {},
   "outputs": [
    {
     "name": "stdout",
     "output_type": "stream",
     "text": [
      "enter a stringsoos\n",
      "string is palindrome\n"
     ]
    }
   ],
   "source": [
    "s=input(\"enter a string\")\n",
    "reversestring=(s[::-1])\n",
    "if reversestring==s:\n",
    "    print(\"string is palindrome\")\n",
    "else:\n",
    "    print(\"string is not palindrome\")"
   ]
  },
  {
   "cell_type": "code",
   "execution_count": 6,
   "id": "0ee30e90",
   "metadata": {},
   "outputs": [
    {
     "name": "stdout",
     "output_type": "stream",
     "text": [
      "enter a stringindia\n",
      "string is not palindrome\n"
     ]
    }
   ],
   "source": [
    "s=input(\"enter a string\")\n",
    "reversestring=(s[::-1])\n",
    "if reversestring==s:\n",
    "    print(\"string is palindrome\")\n",
    "else:\n",
    "    print(\"string is not palindrome\")"
   ]
  },
  {
   "cell_type": "code",
   "execution_count": 7,
   "id": "9e348b64",
   "metadata": {},
   "outputs": [
    {
     "name": "stdout",
     "output_type": "stream",
     "text": [
      "enter a stringkolkatta\n",
      "string is not palindrome\n"
     ]
    }
   ],
   "source": [
    "s=input(\"enter a string\")\n",
    "reversestring=(s[::-1])\n",
    "if reversestring==s:\n",
    "    print(\"string is palindrome\")\n",
    "else:\n",
    "    print(\"string is not palindrome\")"
   ]
  },
  {
   "cell_type": "markdown",
   "id": "c373c749",
   "metadata": {},
   "source": [
    "# Q.14 write python programm to get third side of right angled triangle."
   ]
  },
  {
   "cell_type": "code",
   "execution_count": 5,
   "id": "8de374c6",
   "metadata": {},
   "outputs": [],
   "source": [
    "import math"
   ]
  },
  {
   "cell_type": "code",
   "execution_count": 8,
   "id": "0047f9ff",
   "metadata": {},
   "outputs": [
    {
     "name": "stdout",
     "output_type": "stream",
     "text": [
      "enter the width of rightangle triangle12\n",
      "enter the height of rightangle triangle10\n",
      "third side of right angle trangle is 15.620499351813308\n"
     ]
    }
   ],
   "source": [
    "width=float(input(\"enter the width of rightangle triangle\"))\n",
    "height=float(input('enter the height of rightangle triangle'))\n",
    "c=math.sqrt((width*width)+(height*height))\n",
    "print(\"third side of right angle trangle is\",c)"
   ]
  },
  {
   "cell_type": "code",
   "execution_count": 9,
   "id": "633ae6e1",
   "metadata": {},
   "outputs": [
    {
     "name": "stdout",
     "output_type": "stream",
     "text": [
      "enter the width of rightangle triangle4\n",
      "enter the height of rightangle triangle6\n",
      "third side of right angle trangle is 7.211102550927978\n"
     ]
    }
   ],
   "source": [
    "width=float(input(\"enter the width of rightangle triangle\"))\n",
    "height=float(input('enter the height of rightangle triangle'))\n",
    "c=math.sqrt((width*width)+(height*height))\n",
    "print(\"third side of right angle trangle is\",c)"
   ]
  },
  {
   "cell_type": "code",
   "execution_count": 10,
   "id": "a64d182b",
   "metadata": {},
   "outputs": [
    {
     "name": "stdout",
     "output_type": "stream",
     "text": [
      "enter the width of rightangle triangle10\n",
      "enter the height of rightangle triangle10\n",
      "third side of right angle trangle is 14.142135623730951\n"
     ]
    }
   ],
   "source": [
    "\n",
    "width=float(input(\"enter the width of rightangle triangle\"))\n",
    "height=float(input('enter the height of rightangle triangle'))\n",
    "c=math.sqrt((width*width)+(height*height))\n",
    "print(\"third side of right angle trangle is\",c)"
   ]
  },
  {
   "cell_type": "markdown",
   "id": "aef1de21",
   "metadata": {},
   "source": [
    "# Q.15 write python programm to print the frequqncy of each charater"
   ]
  },
  {
   "cell_type": "code",
   "execution_count": 12,
   "id": "ae5a515f",
   "metadata": {},
   "outputs": [
    {
     "name": "stdout",
     "output_type": "stream",
     "text": [
      "enter a stringaaabbddttg\n",
      "count of each sting charater is 3a2b2d2t1g\n"
     ]
    }
   ],
   "source": [
    "inp_str=input(\"enter a string\")\n",
    "x=set()\n",
    "result=\"\"\n",
    "for i in inp_str:\n",
    "    if i not in x:\n",
    "        x.add(i)\n",
    "        result=result+str(inp_str.count(i))+i\n",
    "print(\"count of each sting charater is\",result)"
   ]
  },
  {
   "cell_type": "code",
   "execution_count": 14,
   "id": "cb442081",
   "metadata": {},
   "outputs": [
    {
     "name": "stdout",
     "output_type": "stream",
     "text": [
      "enterthe stringgood day only good\n",
      "count of each string charater is 3a2b2d2t1g\n"
     ]
    }
   ],
   "source": [
    "int_str=input(\"enterthe string\")\n",
    "x=set()\n",
    "result=\"\"\n",
    "for i in inp_str:\n",
    "    if i not in x:\n",
    "        x.add(i)\n",
    "        result=result+str(inp_str.count(i))+i\n",
    "print(\"count of each string charater is\",result)"
   ]
  },
  {
   "cell_type": "code",
   "execution_count": null,
   "id": "2225c48f",
   "metadata": {},
   "outputs": [],
   "source": []
  },
  {
   "cell_type": "code",
   "execution_count": null,
   "id": "10e787c2",
   "metadata": {},
   "outputs": [],
   "source": []
  }
 ],
 "metadata": {
  "kernelspec": {
   "display_name": "Python 3 (ipykernel)",
   "language": "python",
   "name": "python3"
  },
  "language_info": {
   "codemirror_mode": {
    "name": "ipython",
    "version": 3
   },
   "file_extension": ".py",
   "mimetype": "text/x-python",
   "name": "python",
   "nbconvert_exporter": "python",
   "pygments_lexer": "ipython3",
   "version": "3.9.7"
  }
 },
 "nbformat": 4,
 "nbformat_minor": 5
}
